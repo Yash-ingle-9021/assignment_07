{
 "cells": [
  {
   "cell_type": "code",
   "execution_count": 36,
   "metadata": {},
   "outputs": [
    {
     "name": "stdout",
     "output_type": "stream",
     "text": [
      "7th Feb :- ASSIGNMENT_07\n"
     ]
    }
   ],
   "source": [
    "print(\"7th Feb :- ASSIGNMENT_07\")"
   ]
  },
  {
   "cell_type": "code",
   "execution_count": 1,
   "metadata": {},
   "outputs": [
    {
     "name": "stdout",
     "output_type": "stream",
     "text": [
      "Q_1_ANS :- \n"
     ]
    },
    {
     "name": "stdin",
     "output_type": "stream",
     "text": [
      "Enter your Password to check valid or not  R@a$W*h906\n"
     ]
    },
    {
     "name": "stdout",
     "output_type": "stream",
     "text": [
      "Valid Password\n"
     ]
    }
   ],
   "source": [
    "print('Q_1_ANS :- ')\n",
    "l, u, p, d = 0, 0, 0, 0\n",
    "s = input(\"Enter your Password to check valid or not \")\n",
    "if (len(s) >= 10):\n",
    "\tfor i in s:\n",
    "\n",
    "\t\tif (i.islower()):\n",
    "\t\t\tl+=1\t\t\n",
    "\n",
    "\t\tif (i.isupper()):\n",
    "\t\t\tu+=1\t\t\n",
    "\n",
    "\t\tif (i.isdigit()):\n",
    "\t\t\td+=1\t\t\n",
    "\n",
    "\t\tif(i=='@'or i=='$' or i=='_' or i=='&' or i=='*' or i=='#' or i=='!'):\n",
    "\t\t\tp+=1\t\t\n",
    "\n",
    "if (l>=2 and u>=2 and p>=3 and d>=3 and l+p+u+d==len(s)):\n",
    "\tprint(\"Valid Password\")\n",
    "else:\n",
    "\tprint(\"Invalid Password\")\n",
    "\n",
    "# suggestions: Type this password :- R@a$W*h906"
   ]
  },
  {
   "cell_type": "code",
   "execution_count": 7,
   "metadata": {},
   "outputs": [
    {
     "name": "stdout",
     "output_type": "stream",
     "text": [
      "Q_2_ANS :- \n",
      "H\n",
      "e\n",
      "l\n",
      "l\n",
      "o\n",
      ",\n",
      " \n",
      "W\n",
      "e\n",
      "l\n",
      "c\n",
      "o\n",
      "m\n",
      "e\n",
      " \n",
      "t\n",
      "o\n",
      " \n",
      "d\n",
      "a\n",
      "t\n",
      "a\n",
      " \n",
      "s\n",
      "c\n",
      "i\n",
      "e\n",
      "n\n",
      "c\n",
      "e\n",
      " \n",
      "c\n",
      "o\n",
      "u\n",
      "r\n",
      "s\n",
      "e\n",
      "True\n",
      "Original list of tuples:\n",
      "[('mango', 99), ('orange', 80), ('grapes', 1000)]\n",
      "\n",
      "Sorting the List of Tuples using their quantity:\n",
      "[('orange', 80), ('mango', 99), ('grapes', 1000)]\n"
     ]
    },
    {
     "data": {
      "text/plain": [
       "[1, 4, 9, 16, 25, 36, 49, 64, 81, 100]"
      ]
     },
     "execution_count": 7,
     "metadata": {},
     "output_type": "execute_result"
    }
   ],
   "source": [
    "print('Q_2_ANS :- ')\n",
    "\n",
    "var = \"Hello, Welcome to data science course\"\n",
    " \n",
    "    # 1 :- \n",
    "a = lambda x: True if var.startswith('Hello') else False\n",
    "filtered_list = filter(a, var)\n",
    "for b in filtered_list:\n",
    "    print(b)\n",
    "\n",
    "    # 2 :- \n",
    "is_num = lambda q: q.replace('.','',1).isdigit()\n",
    "print(is_num('26587'))\n",
    "    \n",
    "    # 3 :- \n",
    "fruits = [('mango', 99), ('orange', 80), ('grapes', 1000)]\n",
    "print(\"Original list of tuples:\")\n",
    "print(fruits)\n",
    "fruits.sort(key = lambda x: x[1])\n",
    "print(\"\\nSorting the List of Tuples using their quantity:\")\n",
    "print(fruits)\n",
    "\n",
    "\n",
    "    # 4 :- \n",
    "l = []\n",
    "for i in range(1,11):\n",
    "    l.append(i)\n",
    "    \n",
    "def sq(x):\n",
    "    return x*x\n",
    "\n",
    "list(map(sq,l))\n",
    "\n",
    "\n"
   ]
  },
  {
   "cell_type": "code",
   "execution_count": 5,
   "metadata": {},
   "outputs": [
    {
     "data": {
      "text/plain": [
       "[1.0,\n",
       " 1.2599210498948732,\n",
       " 1.4422495703074083,\n",
       " 1.5874010519681994,\n",
       " 1.7099759466766968,\n",
       " 1.8171205928321397,\n",
       " 1.912931182772389,\n",
       " 2.0,\n",
       " 2.080083823051904,\n",
       " 2.154434690031884]"
      ]
     },
     "execution_count": 5,
     "metadata": {},
     "output_type": "execute_result"
    }
   ],
   "source": [
    "       # 5 :- \n",
    "n = []\n",
    "for y in range(1,11):\n",
    "     n.append(y)\n",
    "    \n",
    "def cube_root(x):\n",
    "        return x**(1/3)\n",
    "    \n",
    "list(map(cube_root,n))"
   ]
  },
  {
   "cell_type": "code",
   "execution_count": 33,
   "metadata": {},
   "outputs": [
    {
     "name": "stdin",
     "output_type": "stream",
     "text": [
      "Enter a number:  9\n"
     ]
    },
    {
     "name": "stdout",
     "output_type": "stream",
     "text": [
      "9 is Odd\n",
      "[None]\n"
     ]
    }
   ],
   "source": [
    "  # 6 :- \n",
    "n = input(\"Enter a number: \")\n",
    "def check_num(n):\n",
    "    num = int(n)\n",
    "    if num % 2 == 0:\n",
    "        print(\"{0} is Even\".format(num))\n",
    "    else:\n",
    "        print(\"{0} is Odd\".format(num))\n",
    "        \n",
    "print(list(map(check_num,n)))\n",
    "\n"
   ]
  },
  {
   "cell_type": "code",
   "execution_count": 34,
   "metadata": {},
   "outputs": [
    {
     "name": "stdout",
     "output_type": "stream",
     "text": [
      "Original List : [1, 2, 3, 4, 5, 6, 7, 8, 9, 10]\n",
      "Filtered List : [1, 3, 5, 7, 9]\n"
     ]
    }
   ],
   "source": [
    "   # 7 :- \n",
    "a = [1,2,3,4,5,6,7,8,9,10]\n",
    "\n",
    "def odd(x):\n",
    "    return x % 2 == 1\n",
    "result = filter(odd, a)\n",
    "print('Original List :', a)\n",
    "print('Filtered List :', list(result))"
   ]
  },
  {
   "cell_type": "code",
   "execution_count": 35,
   "metadata": {},
   "outputs": [
    {
     "name": "stdout",
     "output_type": "stream",
     "text": [
      "The original list is : [1, 2, 3, 4, 5, 6, -1, -2, -3, -4, -5, 0]\n",
      "Result after performing sort operation : [1, 2, 3, 4, 5, 6, 0, -5, -4, -3, -2, -1]\n"
     ]
    }
   ],
   "source": [
    "   # 8 :-\n",
    "\n",
    "test_list = [1, 2, 3, 4, 5, 6, -1, -2, -3, -4, -5, 0]\n",
    "print(\"The original list is : \" + str(test_list))\n",
    "\n",
    "res = sorted(test_list, key = lambda i: 0 if i == 0 else -1 / i)\n",
    "\n",
    "print(\"Result after performing sort operation : \" + str(res))\n"
   ]
  },
  {
   "cell_type": "code",
   "execution_count": null,
   "metadata": {},
   "outputs": [],
   "source": []
  }
 ],
 "metadata": {
  "kernelspec": {
   "display_name": "Python 3 (ipykernel)",
   "language": "python",
   "name": "python3"
  },
  "language_info": {
   "codemirror_mode": {
    "name": "ipython",
    "version": 3
   },
   "file_extension": ".py",
   "mimetype": "text/x-python",
   "name": "python",
   "nbconvert_exporter": "python",
   "pygments_lexer": "ipython3",
   "version": "3.10.6"
  }
 },
 "nbformat": 4,
 "nbformat_minor": 4
}
